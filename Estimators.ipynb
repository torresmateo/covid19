{
 "cells": [
  {
   "cell_type": "code",
   "execution_count": null,
   "metadata": {},
   "outputs": [],
   "source": [
    "import pandas as pd\n",
    "import seaborn as sns\n",
    "import matplotlib.pyplot as plt\n",
    "from countryinfo import CountryInfo\n",
    "import numpy as np\n",
    "from sklearn.linear_model import LinearRegression, LogisticRegression, Ridge\n",
    "from sklearn.pipeline import Pipeline\n",
    "from sklearn.preprocessing import PolynomialFeatures\n",
    "from sklearn.pipeline import make_pipeline\n",
    "plt.rcParams['figure.figsize'] = [12, 8]\n",
    "sns.set()"
   ]
  },
  {
   "cell_type": "code",
   "execution_count": null,
   "metadata": {},
   "outputs": [],
   "source": [
    "# get the dataset from https://www.kaggle.com/imdevskp/corona-virus-report and paste it on ../data\n",
    "df = pd.read_csv('../data/covid_19_clean_complete.csv')\n",
    "df['Date'] = df['Date'].astype('datetime64[ns]')"
   ]
  },
  {
   "cell_type": "code",
   "execution_count": null,
   "metadata": {},
   "outputs": [],
   "source": [
    "south_america = ['Argentina', 'Uruguay', 'Chile', 'Bolivia', 'Paraguay', 'Brazil', 'Ecuador', 'Colombia', 'Venezuela', 'Peru', 'Guyana', 'Suriname', 'French Guiana']"
   ]
  },
  {
   "cell_type": "markdown",
   "metadata": {},
   "source": [
    "# Simple Linear Regression"
   ]
  },
  {
   "cell_type": "code",
   "execution_count": null,
   "metadata": {},
   "outputs": [],
   "source": [
    "regressions = {}\n",
    "for c in south_america:\n",
    "    df_c = df[df['Country/Region'] == c].sort_values('Date')\n",
    "    X = np.array(list(range(df_c.shape[0]))).reshape(-1,1)\n",
    "    y = df_c.Confirmed.to_numpy()\n",
    "    if y.shape[0] > 0:\n",
    "        # don't model zeroes\n",
    "        y_fit = y[y>0]\n",
    "        X_fit = X[-y_fit.shape[0]:]\n",
    "        X_pred = np.append(X_fit, [X_fit.max()+1, X_fit.max()+2]).reshape(-1,1)\n",
    "        plt.title(c)\n",
    "        regressions[c] = LinearRegression().fit(X_fit, y_fit)\n",
    "        plt.plot(X, y, marker='x', color='cornflowerblue', linewidth=2,\n",
    "             label=\"ground truth\")\n",
    "        Y_pred = regressions[c].predict(X_pred)\n",
    "        plt.plot(X_pred, Y_pred, color='red',linewidth=2,\n",
    "             label=\"linear fit\")\n",
    "        plt.legend()\n",
    "        plt.show()\n"
   ]
  },
  {
   "cell_type": "markdown",
   "metadata": {},
   "source": [
    "# Polynomial Regression"
   ]
  },
  {
   "cell_type": "code",
   "execution_count": null,
   "metadata": {},
   "outputs": [],
   "source": [
    "colors = ['teal', 'yellowgreen', 'gold', 'red']\n",
    "for c in south_america:\n",
    "    df_c = df[df['Country/Region'] == c].sort_values('Date')\n",
    "    X = np.array(list(range(df_c.shape[0]))).reshape(-1,1)\n",
    "    y = df_c.Confirmed.to_numpy()\n",
    "    if y.shape[0] > 0:\n",
    "        plt.title(c)\n",
    "        plt.scatter(X, y, color='cornflowerblue', linewidth=2,\n",
    "             label=\"ground truth\")\n",
    "        for count, degree in enumerate([2, 3, 4, 5]):\n",
    "            model = make_pipeline(PolynomialFeatures(degree), Ridge())\n",
    "            model.fit(X, y)\n",
    "            y_plot = model.predict(X)\n",
    "            plt.plot(X, y_plot, color=colors[count], linewidth=2,\n",
    "                     label=f'Ridge Reg {degree} degrees', alpha=0.5)\n",
    "        plt.legend(loc='upper left')\n",
    "        plt.ylabel('Confirmed cases')\n",
    "        plt.xlabel('Days since 2020-01-22')\n",
    "        plt.savefig(f'{c}-RidgeModels.png')\n",
    "        plt.show()"
   ]
  },
  {
   "cell_type": "markdown",
   "metadata": {},
   "source": [
    "# Average growth rate"
   ]
  },
  {
   "cell_type": "code",
   "execution_count": null,
   "metadata": {},
   "outputs": [],
   "source": [
    "colors = ['teal', 'yellowgreen', 'gold', 'red']\n",
    "for c in south_america:\n",
    "    df_c = df[df['Country/Region'] == c].sort_values('Date')\n",
    "    X = np.array(list(range(df_c.shape[0]))).reshape(-1,1)\n",
    "    X_predict = (np.array(list(range(df_c.shape[0] + 1))).reshape(-1,1))\n",
    "    y = df_c.Confirmed.to_numpy()\n",
    "    if y.shape[0] > 0:\n",
    "        growth_rate = 1\n",
    "        for i in range(y.shape[0]):\n",
    "            if y[i] != 0 and y[i-1]\n",
    "            \n",
    "        plt.title(c)\n",
    "        plt.scatter(X, y, color='cornflowerblue', linewidth=2,\n",
    "             label=\"ground truth\")\n",
    "        model = LogisticRegression()\n",
    "        model.fit(X, y)\n",
    "        y_plot = model.predict(X_predict)\n",
    "        plt.plot(X_predict, y_plot, color=colors[count], linewidth=2,\n",
    "                 label=f'Logistic fit', alpha=0.5)\n",
    "        plt.legend(loc='upper left')\n",
    "        plt.ylabel('Confirmed cases')\n",
    "        plt.xlabel('Days since 2020-01-22')\n",
    "        plt.show()"
   ]
  },
  {
   "cell_type": "code",
   "execution_count": null,
   "metadata": {},
   "outputs": [],
   "source": []
  }
 ],
 "metadata": {
  "kernelspec": {
   "display_name": "Python 3",
   "language": "python",
   "name": "python3"
  },
  "language_info": {
   "codemirror_mode": {
    "name": "ipython",
    "version": 3
   },
   "file_extension": ".py",
   "mimetype": "text/x-python",
   "name": "python",
   "nbconvert_exporter": "python",
   "pygments_lexer": "ipython3",
   "version": "3.7.5"
  }
 },
 "nbformat": 4,
 "nbformat_minor": 4
}
